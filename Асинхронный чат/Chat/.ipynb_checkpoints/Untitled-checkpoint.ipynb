{
 "cells": [
  {
   "cell_type": "code",
   "execution_count": 1,
   "metadata": {},
   "outputs": [],
   "source": []
  },
  {
   "cell_type": "code",
   "execution_count": 3,
   "metadata": {},
   "outputs": [],
   "source": [
    "from aiohttp import web\n",
    "from aiohttp.web import middleware\n",
    "from aiohttp_session import get_session\n",
    "\n",
    "@middleware\n",
    "async def authorize(request,handler):\n",
    "    def check_path(path):\n",
    "        result = True\n",
    "        for r in ['/login','/static/','/signin','/signout','/_bedugtoolbar/']:\n",
    "            if path.startswith(r):\n",
    "                result = False\n",
    "        return result\n",
    "    \n",
    "    session = await get_session(request)\n",
    "    if session.get('user'):\n",
    "        return await handler(request)\n",
    "    elif check_path(request.path):\n",
    "        url = request.app.router['login'].url()\n",
    "        raise web.HTTPFound(url)\n",
    "        return handler(request)\n",
    "    else:    \n",
    "        return await handler(request)\n",
    "    "
   ]
  },
  {
   "cell_type": "code",
   "execution_count": null,
   "metadata": {},
   "outputs": [],
   "source": []
  }
 ],
 "metadata": {
  "kernelspec": {
   "display_name": "Python 3",
   "language": "python",
   "name": "python3"
  },
  "language_info": {
   "codemirror_mode": {
    "name": "ipython",
    "version": 3
   },
   "file_extension": ".py",
   "mimetype": "text/x-python",
   "name": "python",
   "nbconvert_exporter": "python",
   "pygments_lexer": "ipython3",
   "version": "3.7.3"
  }
 },
 "nbformat": 4,
 "nbformat_minor": 2
}
